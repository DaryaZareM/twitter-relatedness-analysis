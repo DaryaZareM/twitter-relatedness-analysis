{
 "cells": [
  {
   "cell_type": "markdown",
   "metadata": {
    "id": "view-in-github"
   },
   "source": [
    "<a href=\"https://colab.research.google.com/github/lmoroney/dlaicourse/blob/master/TensorFlow%20In%20Practice/Course%203%20-%20NLP/Course%203%20-%20Week%202%20-%20Lesson%202.ipynb\" target=\"_parent\"><img src=\"https://colab.research.google.com/assets/colab-badge.svg\" alt=\"Open In Colab\"/></a>"
   ]
  },
  {
   "cell_type": "code",
   "execution_count": 1,
   "metadata": {
    "id": "XYYDvoskkE61"
   },
   "outputs": [],
   "source": [
    "import tensorflow as tf\n",
    "\n",
    "from tensorflow.keras.preprocessing.text import Tokenizer\n",
    "from tensorflow.keras.preprocessing.sequence import pad_sequences"
   ]
  },
  {
   "cell_type": "code",
   "execution_count": 2,
   "metadata": {
    "colab": {
     "base_uri": "https://localhost:8080/"
    },
    "id": "QSgjNT2zTyL-",
    "outputId": "871efc8f-a53f-4a3c-bc28-2f4ce46a723a"
   },
   "outputs": [
    {
     "data": {
      "text/plain": [
       "array([1, 1, 1, ..., 0, 0, 0], dtype=int64)"
      ]
     },
     "execution_count": 2,
     "metadata": {},
     "output_type": "execute_result"
    }
   ],
   "source": [
    "import pandas as pd\n",
    "dataset = pd.read_csv('dataF.csv')\n",
    "sentences = dataset.iloc[:, 1].values\n",
    "labels = dataset.iloc[:, -1].values\n",
    "labels"
   ]
  },
  {
   "cell_type": "code",
   "execution_count": 3,
   "metadata": {
    "id": "0eJSTTYnkJQd"
   },
   "outputs": [],
   "source": [
    "vocab_size = 10000\n",
    "embedding_dim = 16\n",
    "max_length = 100\n",
    "trunc_type='post'\n",
    "padding_type='post'\n",
    "oov_tok = \"<OOV>\"\n",
    "training_size = 20000\n"
   ]
  },
  {
   "cell_type": "code",
   "execution_count": 4,
   "metadata": {
    "id": "cXFXzoTaV3w0"
   },
   "outputs": [],
   "source": [
    "sentences=sentences.astype(str)\n",
    "labels=labels.astype('int')"
   ]
  },
  {
   "cell_type": "code",
   "execution_count": 5,
   "metadata": {
    "id": "S1sD-7v0kYWk"
   },
   "outputs": [],
   "source": [
    "from sklearn.model_selection import train_test_split\n",
    "training_sentences, testing_sentences, training_labels, testing_labels = train_test_split(sentences, labels, test_size = 0.2, random_state = 1)"
   ]
  },
  {
   "cell_type": "code",
   "execution_count": 6,
   "metadata": {
    "id": "3u8UB0MCkZ5N"
   },
   "outputs": [],
   "source": [
    "tokenizer = Tokenizer(num_words=vocab_size, oov_token=oov_tok)\n",
    "tokenizer.fit_on_texts(training_sentences)\n",
    "\n",
    "word_index = tokenizer.word_index\n",
    "\n",
    "training_sequences = tokenizer.texts_to_sequences(training_sentences)\n",
    "training_padded = pad_sequences(training_sequences, maxlen=max_length, padding=padding_type, truncating=trunc_type)\n",
    "\n",
    "testing_sequences = tokenizer.texts_to_sequences(testing_sentences)\n",
    "testing_padded = pad_sequences(testing_sequences, maxlen=max_length, padding=padding_type, truncating=trunc_type)"
   ]
  },
  {
   "cell_type": "code",
   "execution_count": 7,
   "metadata": {
    "id": "GrAlWBKf99Ya"
   },
   "outputs": [],
   "source": [
    "# Need this block to get it to work with TensorFlow 2.x\n",
    "import numpy as np\n",
    "training_padded = np.array(training_padded)\n",
    "training_labels = np.array(training_labels)\n",
    "testing_padded = np.array(testing_padded)\n",
    "testing_labels = np.array(testing_labels)"
   ]
  },
  {
   "cell_type": "markdown",
   "metadata": {
    "id": "vpzeX0U3PZ9T"
   },
   "source": [
    "Multiple Layer LSTM"
   ]
  },
  {
   "cell_type": "code",
   "execution_count": 8,
   "metadata": {
    "id": "n15kaj5pPWH8"
   },
   "outputs": [],
   "source": [
    "model = tf.keras.Sequential([\n",
    "    tf.keras.layers.Embedding(vocab_size, 64),\n",
    "    tf.keras.layers.Bidirectional(tf.keras.layers.LSTM(64, return_sequences=True)),\n",
    "    tf.keras.layers.Bidirectional(tf.keras.layers.LSTM(32)),\n",
    "    tf.keras.layers.Dense(64, activation='relu'),\n",
    "    tf.keras.layers.Dense(1, activation='sigmoid')\n",
    "])"
   ]
  },
  {
   "cell_type": "code",
   "execution_count": 9,
   "metadata": {},
   "outputs": [
    {
     "name": "stdout",
     "output_type": "stream",
     "text": [
      "Model: \"sequential\"\n",
      "_________________________________________________________________\n",
      "Layer (type)                 Output Shape              Param #   \n",
      "=================================================================\n",
      "embedding (Embedding)        (None, None, 64)          640000    \n",
      "_________________________________________________________________\n",
      "bidirectional (Bidirectional (None, None, 128)         66048     \n",
      "_________________________________________________________________\n",
      "bidirectional_1 (Bidirection (None, 64)                41216     \n",
      "_________________________________________________________________\n",
      "dense (Dense)                (None, 64)                4160      \n",
      "_________________________________________________________________\n",
      "dense_1 (Dense)              (None, 1)                 65        \n",
      "=================================================================\n",
      "Total params: 751,489\n",
      "Trainable params: 751,489\n",
      "Non-trainable params: 0\n",
      "_________________________________________________________________\n"
     ]
    }
   ],
   "source": [
    "model.summary()"
   ]
  },
  {
   "cell_type": "code",
   "execution_count": 12,
   "metadata": {
    "id": "bNJjw6xwPmfH"
   },
   "outputs": [],
   "source": [
    "model.compile(loss='binary_crossentropy', optimizer='adam', metrics=['accuracy'])"
   ]
  },
  {
   "cell_type": "code",
   "execution_count": 13,
   "metadata": {
    "colab": {
     "base_uri": "https://localhost:8080/"
    },
    "id": "TQParzORPqyW",
    "outputId": "87de249c-995c-4e13-980b-bf3724a249e6"
   },
   "outputs": [
    {
     "name": "stdout",
     "output_type": "stream",
     "text": [
      "Epoch 1/20\n",
      "328/328 - 19s - loss: 0.4769 - accuracy: 0.7671 - val_loss: 0.2714 - val_accuracy: 0.8874\n",
      "Epoch 2/20\n",
      "328/328 - 7s - loss: 0.1833 - accuracy: 0.9301 - val_loss: 0.1873 - val_accuracy: 0.9279\n",
      "Epoch 3/20\n",
      "328/328 - 7s - loss: 0.0983 - accuracy: 0.9640 - val_loss: 0.1373 - val_accuracy: 0.9534\n",
      "Epoch 4/20\n",
      "328/328 - 7s - loss: 0.0709 - accuracy: 0.9741 - val_loss: 0.1583 - val_accuracy: 0.9515\n",
      "Epoch 5/20\n",
      "328/328 - 7s - loss: 0.0560 - accuracy: 0.9780 - val_loss: 0.1417 - val_accuracy: 0.9546\n",
      "Epoch 6/20\n",
      "328/328 - 8s - loss: 0.0615 - accuracy: 0.9752 - val_loss: 0.1288 - val_accuracy: 0.9538\n",
      "Epoch 7/20\n",
      "328/328 - 8s - loss: 0.0497 - accuracy: 0.9789 - val_loss: 0.1359 - val_accuracy: 0.9550\n",
      "Epoch 8/20\n",
      "328/328 - 7s - loss: 0.0387 - accuracy: 0.9824 - val_loss: 0.1371 - val_accuracy: 0.9634\n",
      "Epoch 9/20\n",
      "328/328 - 7s - loss: 0.0387 - accuracy: 0.9832 - val_loss: 0.1406 - val_accuracy: 0.9599\n",
      "Epoch 10/20\n",
      "328/328 - 7s - loss: 0.0340 - accuracy: 0.9844 - val_loss: 0.1916 - val_accuracy: 0.9492\n",
      "Epoch 11/20\n",
      "328/328 - 7s - loss: 0.0381 - accuracy: 0.9831 - val_loss: 0.1621 - val_accuracy: 0.9515\n",
      "Epoch 12/20\n",
      "328/328 - 7s - loss: 0.0417 - accuracy: 0.9821 - val_loss: 0.1691 - val_accuracy: 0.9561\n",
      "Epoch 13/20\n",
      "328/328 - 7s - loss: 0.0339 - accuracy: 0.9842 - val_loss: 0.1390 - val_accuracy: 0.9626\n",
      "Epoch 14/20\n",
      "328/328 - 7s - loss: 0.0278 - accuracy: 0.9867 - val_loss: 0.1359 - val_accuracy: 0.9672\n",
      "Epoch 15/20\n",
      "328/328 - 8s - loss: 0.0281 - accuracy: 0.9863 - val_loss: 0.1804 - val_accuracy: 0.9599\n",
      "Epoch 16/20\n",
      "328/328 - 7s - loss: 0.0252 - accuracy: 0.9872 - val_loss: 0.1953 - val_accuracy: 0.9611\n",
      "Epoch 17/20\n",
      "328/328 - 7s - loss: 0.0268 - accuracy: 0.9868 - val_loss: 0.1656 - val_accuracy: 0.9622\n",
      "Epoch 18/20\n",
      "328/328 - 7s - loss: 0.0256 - accuracy: 0.9871 - val_loss: 0.1839 - val_accuracy: 0.9573\n",
      "Epoch 19/20\n",
      "328/328 - 8s - loss: 0.0350 - accuracy: 0.9838 - val_loss: 0.1476 - val_accuracy: 0.9615\n",
      "Epoch 20/20\n",
      "328/328 - 7s - loss: 0.0321 - accuracy: 0.9850 - val_loss: 0.1456 - val_accuracy: 0.9649\n"
     ]
    }
   ],
   "source": [
    "NUM_EPOCHS = 20\n",
    "history = model.fit(training_padded, training_labels, epochs=NUM_EPOCHS, validation_data=(testing_padded, testing_labels), verbose=2)"
   ]
  },
  {
   "cell_type": "code",
   "execution_count": 21,
   "metadata": {
    "colab": {
     "base_uri": "https://localhost:8080/"
    },
    "id": "gzAUWlmDh_7M",
    "outputId": "e113a323-42b6-4a3d-d133-89b47ff3653f"
   },
   "outputs": [
    {
     "name": "stdout",
     "output_type": "stream",
     "text": [
      "Epoch 1/10\n",
      "328/328 - 8s - loss: 0.0201 - accuracy: 0.9889 - val_loss: 0.1731 - val_accuracy: 0.9664\n",
      "Epoch 2/10\n",
      "328/328 - 7s - loss: 0.0276 - accuracy: 0.9871 - val_loss: 0.1310 - val_accuracy: 0.9672\n",
      "Epoch 3/10\n",
      "328/328 - 7s - loss: 0.0198 - accuracy: 0.9890 - val_loss: 0.1725 - val_accuracy: 0.9634\n",
      "Epoch 4/10\n",
      "328/328 - 7s - loss: 0.0190 - accuracy: 0.9892 - val_loss: 0.1750 - val_accuracy: 0.9634\n",
      "Epoch 5/10\n",
      "328/328 - 7s - loss: 0.0191 - accuracy: 0.9896 - val_loss: 0.1798 - val_accuracy: 0.9653\n",
      "Epoch 6/10\n",
      "328/328 - 7s - loss: 0.0188 - accuracy: 0.9896 - val_loss: 0.1860 - val_accuracy: 0.9660\n",
      "Epoch 7/10\n",
      "328/328 - 7s - loss: 0.0192 - accuracy: 0.9896 - val_loss: 0.1811 - val_accuracy: 0.9641\n",
      "Epoch 8/10\n",
      "328/328 - 8s - loss: 0.0209 - accuracy: 0.9893 - val_loss: 0.1561 - val_accuracy: 0.9634\n",
      "Epoch 9/10\n",
      "328/328 - 8s - loss: 0.0237 - accuracy: 0.9873 - val_loss: 0.1592 - val_accuracy: 0.9595\n",
      "Epoch 10/10\n",
      "328/328 - 8s - loss: 0.0231 - accuracy: 0.9882 - val_loss: 0.1497 - val_accuracy: 0.9676\n"
     ]
    }
   ],
   "source": [
    "NUM_EPOCHS = 10\n",
    "history = model.fit(training_padded, training_labels, epochs=NUM_EPOCHS, validation_data=(testing_padded, testing_labels), verbose=2)"
   ]
  },
  {
   "cell_type": "code",
   "execution_count": 22,
   "metadata": {
    "colab": {
     "base_uri": "https://localhost:8080/",
     "height": 279
    },
    "id": "_5WTXiyQPnJf",
    "outputId": "e4649a19-ab6b-4655-d833-98dd2358c027"
   },
   "outputs": [
    {
     "data": {
      "image/png": "[encoded data removed]",
      "text/plain": [
       "<Figure size 432x288 with 1 Axes>"
      ]
     },
     "metadata": {
      "needs_background": "light",
      "tags": []
     },
     "output_type": "display_data"
    }
   ],
   "source": [
    "import matplotlib.pyplot as plt\n",
    "\n",
    "\n",
    "def plot_graphs(history, string):\n",
    "  plt.plot(history.history[string])\n",
    "  plt.plot(history.history['val_'+string])\n",
    "  plt.xlabel(\"Epochs\")\n",
    "  plt.ylabel(string)\n",
    "  plt.legend([string, 'val_'+string])\n",
    "  plt.show()\n",
    "plot_graphs(history, 'accuracy')"
   ]
  },
  {
   "cell_type": "markdown",
   "metadata": {
    "id": "hbha-4Dpi8fO"
   },
   "source": [
    "convolutional NN"
   ]
  },
  {
   "cell_type": "code",
   "execution_count": 34,
   "metadata": {
    "id": "emsG7Gq7i8L5"
   },
   "outputs": [],
   "source": [
    "modelc = tf.keras.Sequential([\n",
    "    tf.keras.layers.Embedding(vocab_size, 64),\n",
    "    tf.keras.layers.Conv1D(128, 5, activation='relu'),\n",
    "    tf.keras.layers.GlobalAveragePooling1D(),\n",
    "    tf.keras.layers.Dense(64, activation='relu'),\n",
    "    tf.keras.layers.Dense(1, activation='sigmoid')\n",
    "])"
   ]
  },
  {
   "cell_type": "code",
   "execution_count": 35,
   "metadata": {
    "id": "RNbs9dMUjyVU"
   },
   "outputs": [],
   "source": [
    "modelc.compile(loss='binary_crossentropy', optimizer='adam', metrics=['accuracy'])"
   ]
  },
  {
   "cell_type": "code",
   "execution_count": 36,
   "metadata": {
    "colab": {
     "base_uri": "https://localhost:8080/"
    },
    "id": "Wxxyw8Lpi8A9",
    "outputId": "f5c26c5e-75c8-4eff-c441-1a798eba688a"
   },
   "outputs": [
    {
     "name": "stdout",
     "output_type": "stream",
     "text": [
      "Epoch 1/15\n",
      "328/328 - 3s - loss: 0.5249 - accuracy: 0.7177 - val_loss: 0.2885 - val_accuracy: 0.8828\n",
      "Epoch 2/15\n",
      "328/328 - 3s - loss: 0.2379 - accuracy: 0.9018 - val_loss: 0.2210 - val_accuracy: 0.9229\n",
      "Epoch 3/15\n",
      "328/328 - 3s - loss: 0.1407 - accuracy: 0.9466 - val_loss: 0.1937 - val_accuracy: 0.9298\n",
      "Epoch 4/15\n",
      "328/328 - 3s - loss: 0.1013 - accuracy: 0.9628 - val_loss: 0.1915 - val_accuracy: 0.9366\n",
      "Epoch 5/15\n",
      "328/328 - 3s - loss: 0.0840 - accuracy: 0.9695 - val_loss: 0.1769 - val_accuracy: 0.9416\n",
      "Epoch 6/15\n",
      "328/328 - 3s - loss: 0.0717 - accuracy: 0.9744 - val_loss: 0.1886 - val_accuracy: 0.9424\n",
      "Epoch 7/15\n",
      "328/328 - 3s - loss: 0.0632 - accuracy: 0.9763 - val_loss: 0.1691 - val_accuracy: 0.9447\n",
      "Epoch 8/15\n",
      "328/328 - 3s - loss: 0.0556 - accuracy: 0.9802 - val_loss: 0.1885 - val_accuracy: 0.9473\n",
      "Epoch 9/15\n",
      "328/328 - 3s - loss: 0.0519 - accuracy: 0.9804 - val_loss: 0.1854 - val_accuracy: 0.9473\n",
      "Epoch 10/15\n",
      "328/328 - 3s - loss: 0.0480 - accuracy: 0.9810 - val_loss: 0.1954 - val_accuracy: 0.9473\n",
      "Epoch 11/15\n",
      "328/328 - 3s - loss: 0.0424 - accuracy: 0.9821 - val_loss: 0.1821 - val_accuracy: 0.9523\n",
      "Epoch 12/15\n",
      "328/328 - 3s - loss: 0.0423 - accuracy: 0.9837 - val_loss: 0.1626 - val_accuracy: 0.9550\n",
      "Epoch 13/15\n",
      "328/328 - 3s - loss: 0.0377 - accuracy: 0.9847 - val_loss: 0.1859 - val_accuracy: 0.9504\n",
      "Epoch 14/15\n",
      "328/328 - 3s - loss: 0.0409 - accuracy: 0.9841 - val_loss: 0.2015 - val_accuracy: 0.9477\n",
      "Epoch 15/15\n",
      "328/328 - 3s - loss: 0.0340 - accuracy: 0.9853 - val_loss: 0.1925 - val_accuracy: 0.9504\n"
     ]
    }
   ],
   "source": [
    "NUM_EPOCHS = 15\n",
    "history = modelc.fit(training_padded, training_labels, epochs=NUM_EPOCHS, validation_data=(testing_padded, testing_labels), verbose=2)"
   ]
  },
  {
   "cell_type": "markdown",
   "metadata": {
    "id": "QInt9-I6PeTc"
   },
   "source": [
    "sequential"
   ]
  },
  {
   "cell_type": "code",
   "execution_count": null,
   "metadata": {
    "id": "FufaT4vlkiDE"
   },
   "outputs": [],
   "source": [
    "model = tf.keras.Sequential([\n",
    "    tf.keras.layers.Embedding(vocab_size, embedding_dim, input_length=max_length),\n",
    "    tf.keras.layers.GlobalAveragePooling1D(),\n",
    "    tf.keras.layers.Dense(24, activation='relu'),\n",
    "    tf.keras.layers.Dense(1, activation='sigmoid')\n",
    "])\n",
    "model.compile(loss='binary_crossentropy',optimizer='adam',metrics=['accuracy'])"
   ]
  },
  {
   "cell_type": "code",
   "execution_count": null,
   "metadata": {
    "colab": {
     "base_uri": "https://localhost:8080/"
    },
    "id": "XfDt1hmYkiys",
    "outputId": "6a93fce6-9c03-465d-9231-720e7cb51dc6"
   },
   "outputs": [
    {
     "name": "stdout",
     "output_type": "stream",
     "text": [
      "Model: \"sequential\"\n",
      "_________________________________________________________________\n",
      "Layer (type)                 Output Shape              Param #   \n",
      "=================================================================\n",
      "embedding (Embedding)        (None, 100, 16)           160000    \n",
      "_________________________________________________________________\n",
      "global_average_pooling1d (Gl (None, 16)                0         \n",
      "_________________________________________________________________\n",
      "dense (Dense)                (None, 24)                408       \n",
      "_________________________________________________________________\n",
      "dense_1 (Dense)              (None, 1)                 25        \n",
      "=================================================================\n",
      "Total params: 160,433\n",
      "Trainable params: 160,433\n",
      "Non-trainable params: 0\n",
      "_________________________________________________________________\n"
     ]
    }
   ],
   "source": [
    "model.summary()"
   ]
  },
  {
   "cell_type": "code",
   "execution_count": null,
   "metadata": {
    "colab": {
     "base_uri": "https://localhost:8080/"
    },
    "id": "2DTKQFf1kkyc",
    "outputId": "1ae52dee-d80d-4d1f-d3a1-5191012fbce2"
   },
   "outputs": [
    {
     "name": "stdout",
     "output_type": "stream",
     "text": [
      "Epoch 1/30\n",
      "328/328 - 5s - loss: 0.6856 - accuracy: 0.5872 - val_loss: 0.6416 - val_accuracy: 0.7840\n",
      "Epoch 2/30\n",
      "328/328 - 1s - loss: 0.5588 - accuracy: 0.7570 - val_loss: 0.4411 - val_accuracy: 0.8252\n",
      "Epoch 3/30\n",
      "328/328 - 1s - loss: 0.4107 - accuracy: 0.8269 - val_loss: 0.3550 - val_accuracy: 0.8557\n",
      "Epoch 4/30\n",
      "328/328 - 1s - loss: 0.3165 - accuracy: 0.8762 - val_loss: 0.2929 - val_accuracy: 0.8859\n",
      "Epoch 5/30\n",
      "328/328 - 1s - loss: 0.2532 - accuracy: 0.9051 - val_loss: 0.2461 - val_accuracy: 0.9107\n",
      "Epoch 6/30\n",
      "328/328 - 1s - loss: 0.2076 - accuracy: 0.9251 - val_loss: 0.2402 - val_accuracy: 0.9122\n",
      "Epoch 7/30\n",
      "328/328 - 1s - loss: 0.1752 - accuracy: 0.9378 - val_loss: 0.2132 - val_accuracy: 0.9282\n",
      "Epoch 8/30\n",
      "328/328 - 1s - loss: 0.1546 - accuracy: 0.9445 - val_loss: 0.2015 - val_accuracy: 0.9313\n",
      "Epoch 9/30\n",
      "328/328 - 1s - loss: 0.1360 - accuracy: 0.9521 - val_loss: 0.2102 - val_accuracy: 0.9252\n",
      "Epoch 10/30\n",
      "328/328 - 1s - loss: 0.1202 - accuracy: 0.9573 - val_loss: 0.1890 - val_accuracy: 0.9366\n",
      "Epoch 11/30\n",
      "328/328 - 1s - loss: 0.1103 - accuracy: 0.9591 - val_loss: 0.1835 - val_accuracy: 0.9408\n",
      "Epoch 12/30\n",
      "328/328 - 1s - loss: 0.1006 - accuracy: 0.9640 - val_loss: 0.1829 - val_accuracy: 0.9389\n",
      "Epoch 13/30\n",
      "328/328 - 1s - loss: 0.0930 - accuracy: 0.9655 - val_loss: 0.1843 - val_accuracy: 0.9397\n",
      "Epoch 14/30\n",
      "328/328 - 1s - loss: 0.0892 - accuracy: 0.9672 - val_loss: 0.1817 - val_accuracy: 0.9363\n",
      "Epoch 15/30\n",
      "328/328 - 1s - loss: 0.0842 - accuracy: 0.9678 - val_loss: 0.1769 - val_accuracy: 0.9469\n",
      "Epoch 16/30\n",
      "328/328 - 1s - loss: 0.0762 - accuracy: 0.9727 - val_loss: 0.1730 - val_accuracy: 0.9439\n",
      "Epoch 17/30\n",
      "328/328 - 1s - loss: 0.0737 - accuracy: 0.9719 - val_loss: 0.1694 - val_accuracy: 0.9447\n",
      "Epoch 18/30\n",
      "328/328 - 1s - loss: 0.0716 - accuracy: 0.9733 - val_loss: 0.1859 - val_accuracy: 0.9424\n",
      "Epoch 19/30\n",
      "328/328 - 1s - loss: 0.0694 - accuracy: 0.9738 - val_loss: 0.1708 - val_accuracy: 0.9439\n",
      "Epoch 20/30\n",
      "328/328 - 1s - loss: 0.0660 - accuracy: 0.9743 - val_loss: 0.1755 - val_accuracy: 0.9439\n",
      "Epoch 21/30\n",
      "328/328 - 1s - loss: 0.0628 - accuracy: 0.9746 - val_loss: 0.1784 - val_accuracy: 0.9427\n",
      "Epoch 22/30\n",
      "328/328 - 1s - loss: 0.0598 - accuracy: 0.9766 - val_loss: 0.1666 - val_accuracy: 0.9477\n",
      "Epoch 23/30\n",
      "328/328 - 1s - loss: 0.0571 - accuracy: 0.9767 - val_loss: 0.1801 - val_accuracy: 0.9450\n",
      "Epoch 24/30\n",
      "328/328 - 1s - loss: 0.0575 - accuracy: 0.9767 - val_loss: 0.1782 - val_accuracy: 0.9454\n",
      "Epoch 25/30\n",
      "328/328 - 1s - loss: 0.0553 - accuracy: 0.9772 - val_loss: 0.1770 - val_accuracy: 0.9473\n",
      "Epoch 26/30\n",
      "328/328 - 1s - loss: 0.0525 - accuracy: 0.9791 - val_loss: 0.1723 - val_accuracy: 0.9416\n",
      "Epoch 27/30\n",
      "328/328 - 1s - loss: 0.0507 - accuracy: 0.9802 - val_loss: 0.1674 - val_accuracy: 0.9485\n",
      "Epoch 28/30\n",
      "328/328 - 1s - loss: 0.0502 - accuracy: 0.9804 - val_loss: 0.1696 - val_accuracy: 0.9481\n",
      "Epoch 29/30\n",
      "328/328 - 1s - loss: 0.0509 - accuracy: 0.9793 - val_loss: 0.1952 - val_accuracy: 0.9431\n",
      "Epoch 30/30\n",
      "328/328 - 1s - loss: 0.0468 - accuracy: 0.9799 - val_loss: 0.1888 - val_accuracy: 0.9443\n"
     ]
    }
   ],
   "source": [
    "num_epochs = 30\n",
    "history = model.fit(training_padded, training_labels, epochs=num_epochs, validation_data=(testing_padded, testing_labels), verbose=2)"
   ]
  },
  {
   "cell_type": "code",
   "execution_count": null,
   "metadata": {
    "colab": {
     "base_uri": "https://localhost:8080/",
     "height": 545
    },
    "id": "2HYfBKXjkmU8",
    "outputId": "b77271cf-677c-4206-8d0f-7b7ef377efa6"
   },
   "outputs": [
    {
     "data": {
      "image/png": "[encoded data removed]",
      "text/plain": [
       "<Figure size 432x288 with 1 Axes>"
      ]
     },
     "metadata": {
      "needs_background": "light",
      "tags": []
     },
     "output_type": "display_data"
    },
    {
     "data": {
      "image/png": "[encoded data removed]",
      "text/plain": [
       "<Figure size 432x288 with 1 Axes>"
      ]
     },
     "metadata": {
      "needs_background": "light",
      "tags": []
     },
     "output_type": "display_data"
    }
   ],
   "source": [
    "import matplotlib.pyplot as plt\n",
    "\n",
    "\n",
    "def plot_graphs(history, string):\n",
    "  plt.plot(history.history[string])\n",
    "  plt.plot(history.history['val_'+string])\n",
    "  plt.xlabel(\"Epochs\")\n",
    "  plt.ylabel(string)\n",
    "  plt.legend([string, 'val_'+string])\n",
    "  plt.show()\n",
    "  \n",
    "plot_graphs(history, \"accuracy\")\n",
    "plot_graphs(history, \"loss\")"
   ]
  },
  {
   "cell_type": "code",
   "execution_count": null,
   "metadata": {
    "colab": {
     "base_uri": "https://localhost:8080/"
    },
    "id": "7SBdAZAenvzL",
    "outputId": "a73ba76c-ec14-422d-984d-50f90c711b4c"
   },
   "outputs": [
    {
     "name": "stdout",
     "output_type": "stream",
     "text": [
      "remov section 230 stand presid trump call representative🇺🇲🇺🇲🇺🇲🇺🇲🇺🇲bigtechelectioninterferencebigtechstandwithpresidenttrump 🇺🇲🇺🇲🇺🇲🇺🇲🇺🇲 ? ? ? ? ? ? ? ? ? ? ? ? ? ? ? ? ? ? ? ? ? ? ? ? ? ? ? ? ? ? ? ? ? ? ? ? ? ? ? ? ? ? ? ? ? ? ? ? ? ? ? ? ? ? ? ? ? ? ? ? ? ? ? ? ? ? ? ? ? ? ? ? ? ? ? ? ? ? ? ? ? ? ? ? ? ? ? ? ? ? ?\n",
      "ban frack fact— kamala harri octob 8 2020aug 31 2020 – “i ban frack let say ban frack matter mani time donald trump lie me” –\n",
      "1\n"
     ]
    }
   ],
   "source": [
    "reverse_word_index = dict([(value, key) for (key, value) in word_index.items()])\n",
    "\n",
    "def decode_sentence(text):\n",
    "    return ' '.join([reverse_word_index.get(i, '?') for i in text])\n",
    "\n",
    "print(decode_sentence(training_padded[0]))\n",
    "print(training_sentences[2])\n",
    "print(labels[2])"
   ]
  },
  {
   "cell_type": "code",
   "execution_count": null,
   "metadata": {
    "id": "c9MqihtEkzQ9"
   },
   "outputs": [],
   "source": [
    "e = model.layers[0]\n",
    "weights = e.get_weights()[0]\n",
    "print(weights.shape) # shape: (vocab_size, embedding_dim)\n"
   ]
  },
  {
   "cell_type": "code",
   "execution_count": null,
   "metadata": {
    "id": "LoBXVffknldU"
   },
   "outputs": [],
   "source": [
    "import io\n",
    "\n",
    "out_v = io.open('vecs.tsv', 'w', encoding='utf-8')\n",
    "out_m = io.open('meta.tsv', 'w', encoding='utf-8')\n",
    "for word_num in range(1, vocab_size):\n",
    "  word = reverse_word_index[word_num]\n",
    "  embeddings = weights[word_num]\n",
    "  out_m.write(word + \"\\n\")\n",
    "  out_v.write('\\t'.join([str(x) for x in embeddings]) + \"\\n\")\n",
    "out_v.close()\n",
    "out_m.close()"
   ]
  },
  {
   "cell_type": "code",
   "execution_count": null,
   "metadata": {
    "id": "U4eZ5HtVnnEE"
   },
   "outputs": [],
   "source": [
    "try:\n",
    "  from google.colab import files\n",
    "except ImportError:\n",
    "  pass\n",
    "else:\n",
    "  files.download('vecs.tsv')\n",
    "  files.download('meta.tsv')"
   ]
  },
  {
   "cell_type": "code",
   "execution_count": null,
   "metadata": {
    "id": "cG8-ArY-qDcz"
   },
   "outputs": [],
   "source": [
    "sentence = [\"granny starting to fear spiders in the garden might be real\", \"game of thrones season finale showing this sunday night\"]\n",
    "sequences = tokenizer.texts_to_sequences(sentence)\n",
    "padded = pad_sequences(sequences, maxlen=max_length, padding=padding_type, truncating=trunc_type)\n",
    "print(model.predict(padded))"
   ]
  }
 ],
 "metadata": {
  "accelerator": "GPU",
  "colab": {
   "collapsed_sections": [],
   "name": "Copy of Course 3 - Week 2 - Lesson 2.ipynb",
   "provenance": []
  },
  "kernelspec": {
   "display_name": "Python 3",
   "language": "python",
   "name": "python3"
  },
  "language_info": {
   "codemirror_mode": {
    "name": "ipython",
    "version": 3
   },
   "file_extension": ".py",
   "mimetype": "text/x-python",
   "name": "python",
   "nbconvert_exporter": "python",
   "pygments_lexer": "ipython3",
   "version": "3.7.7"
  }
 },
 "nbformat": 4,
 "nbformat_minor": 1
}
